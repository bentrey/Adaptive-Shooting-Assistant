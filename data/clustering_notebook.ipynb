{
 "cells": [
  {
   "cell_type": "code",
   "execution_count": 227,
   "metadata": {},
   "outputs": [],
   "source": [
    "import numpy as np\n",
    "import pandas as pd"
   ]
  },
  {
   "cell_type": "code",
   "execution_count": 228,
   "metadata": {},
   "outputs": [],
   "source": [
    "# read in all acc make files\n",
    "\n",
    "acc_make = pd.read_csv('brendan_k_data/acc_make.csv')\n",
    "acc_miss_left = pd.read_csv('brendan_k_data/acc_miss_left.csv')\n",
    "acc_miss_long = pd.read_csv('brendan_k_data/acc_miss_long.csv')\n",
    "acc_miss_right = pd.read_csv('brendan_k_data/acc_miss_right.csv')\n",
    "acc_miss_short = pd.read_csv('brendan_k_data/acc_miss_short.csv')"
   ]
  },
  {
   "cell_type": "code",
   "execution_count": 229,
   "metadata": {},
   "outputs": [],
   "source": [
    "# read in all gyr files\n",
    "\n",
    "gyr_make = pd.read_csv('brendan_k_data/gyr_make.csv')\n",
    "gyr_miss_left = pd.read_csv('brendan_k_data/gyr_miss_left.csv')\n",
    "gyr_miss_long = pd.read_csv('brendan_k_data/gyr_miss_long.csv')\n",
    "gyr_miss_right = pd.read_csv('brendan_k_data/gyr_miss_right.csv')\n",
    "gyr_miss_short = pd.read_csv('brendan_k_data/gyr_miss_short.csv')"
   ]
  },
  {
   "cell_type": "code",
   "execution_count": 230,
   "metadata": {},
   "outputs": [],
   "source": [
    "# lets combine them into master files for each one\n",
    "\n",
    "make = acc_make.merge(gyr_make, on='Date')\n",
    "miss_left = acc_miss_left.merge(gyr_miss_left, on='Date')\n",
    "miss_long = acc_miss_long.merge(gyr_miss_long, on='Date')\n",
    "miss_right = acc_miss_right.merge(gyr_miss_right, on='Date')\n",
    "miss_short = acc_miss_short.merge(gyr_miss_short, on='Date')"
   ]
  },
  {
   "cell_type": "code",
   "execution_count": 231,
   "metadata": {},
   "outputs": [],
   "source": [
    "# drop junk columns and add status\n",
    "\n",
    "columns_to_delete = ['HostTimestamp_x', 'NodeName_x', 'NodeTimestamp_x', 'RawData_x',\n",
    "                    'HostTimestamp_y', 'NodeName_y', 'NodeTimestamp_y', 'RawData_y']\n",
    "\n",
    "make = make.drop(columns_to_delete, axis=1)\n",
    "make['status'] = 'make'\n",
    "miss_left = miss_left.drop(columns_to_delete, axis=1)\n",
    "miss_left['status'] = 'miss_left'\n",
    "miss_long = miss_long.drop(columns_to_delete, axis=1)\n",
    "miss_long['status'] = 'miss_long'\n",
    "miss_right = miss_right.drop(columns_to_delete, axis=1)\n",
    "miss_right['status'] = 'miss_right'\n",
    "miss_short = miss_short.drop(columns_to_delete, axis=1)\n",
    "miss_short['status'] = 'miss_right'"
   ]
  },
  {
   "cell_type": "code",
   "execution_count": 232,
   "metadata": {},
   "outputs": [],
   "source": [
    "# another round of dropping\n",
    "\n",
    "col_to_del = ['Unnamed: 8', 'Unnamed: 9', 'Unnamed: 10', 'Unnamed: 11']\n",
    "miss_short = miss_short.drop(col_to_del, axis=1)\n",
    "miss_long = miss_long.drop(col_to_del, axis=1)"
   ]
  },
  {
   "cell_type": "code",
   "execution_count": 233,
   "metadata": {},
   "outputs": [],
   "source": [
    "# combine all data points into one pd\n",
    "\n",
    "frames = [make, miss_left, miss_long, miss_right, miss_short]\n",
    "df = pd.concat(frames, axis=0, ignore_index=True)"
   ]
  },
  {
   "cell_type": "code",
   "execution_count": 234,
   "metadata": {},
   "outputs": [
    {
     "data": {
      "text/html": [
       "<div>\n",
       "<style scoped>\n",
       "    .dataframe tbody tr th:only-of-type {\n",
       "        vertical-align: middle;\n",
       "    }\n",
       "\n",
       "    .dataframe tbody tr th {\n",
       "        vertical-align: top;\n",
       "    }\n",
       "\n",
       "    .dataframe thead th {\n",
       "        text-align: right;\n",
       "    }\n",
       "</style>\n",
       "<table border=\"1\" class=\"dataframe\">\n",
       "  <thead>\n",
       "    <tr style=\"text-align: right;\">\n",
       "      <th></th>\n",
       "      <th>Date</th>\n",
       "      <th>X (mg)</th>\n",
       "      <th>Y (mg)</th>\n",
       "      <th>Z (mg)</th>\n",
       "      <th>X (dps)</th>\n",
       "      <th>Y (dps)</th>\n",
       "      <th>Z (dps)</th>\n",
       "      <th>status_make</th>\n",
       "      <th>status_miss_left</th>\n",
       "      <th>status_miss_long</th>\n",
       "      <th>status_miss_right</th>\n",
       "    </tr>\n",
       "  </thead>\n",
       "  <tbody>\n",
       "    <tr>\n",
       "      <th>0</th>\n",
       "      <td>25/07/2020 18:09:39.435</td>\n",
       "      <td>-882.0</td>\n",
       "      <td>331.0</td>\n",
       "      <td>-336.0</td>\n",
       "      <td>0.7</td>\n",
       "      <td>-2.8</td>\n",
       "      <td>1.7</td>\n",
       "      <td>1</td>\n",
       "      <td>0</td>\n",
       "      <td>0</td>\n",
       "      <td>0</td>\n",
       "    </tr>\n",
       "    <tr>\n",
       "      <th>1</th>\n",
       "      <td>25/07/2020 18:09:39.465</td>\n",
       "      <td>-915.0</td>\n",
       "      <td>318.0</td>\n",
       "      <td>-323.0</td>\n",
       "      <td>-0.2</td>\n",
       "      <td>0.4</td>\n",
       "      <td>2.3</td>\n",
       "      <td>1</td>\n",
       "      <td>0</td>\n",
       "      <td>0</td>\n",
       "      <td>0</td>\n",
       "    </tr>\n",
       "    <tr>\n",
       "      <th>2</th>\n",
       "      <td>25/07/2020 18:09:39.527</td>\n",
       "      <td>-875.0</td>\n",
       "      <td>318.0</td>\n",
       "      <td>-362.0</td>\n",
       "      <td>-1.2</td>\n",
       "      <td>0.6</td>\n",
       "      <td>2.1</td>\n",
       "      <td>1</td>\n",
       "      <td>0</td>\n",
       "      <td>0</td>\n",
       "      <td>0</td>\n",
       "    </tr>\n",
       "    <tr>\n",
       "      <th>3</th>\n",
       "      <td>25/07/2020 18:09:39.587</td>\n",
       "      <td>-900.0</td>\n",
       "      <td>317.0</td>\n",
       "      <td>-353.0</td>\n",
       "      <td>1.1</td>\n",
       "      <td>-1.3</td>\n",
       "      <td>3.2</td>\n",
       "      <td>1</td>\n",
       "      <td>0</td>\n",
       "      <td>0</td>\n",
       "      <td>0</td>\n",
       "    </tr>\n",
       "    <tr>\n",
       "      <th>4</th>\n",
       "      <td>25/07/2020 18:09:39.617</td>\n",
       "      <td>-904.0</td>\n",
       "      <td>317.0</td>\n",
       "      <td>-351.0</td>\n",
       "      <td>1.6</td>\n",
       "      <td>-1.2</td>\n",
       "      <td>3.6</td>\n",
       "      <td>1</td>\n",
       "      <td>0</td>\n",
       "      <td>0</td>\n",
       "      <td>0</td>\n",
       "    </tr>\n",
       "  </tbody>\n",
       "</table>\n",
       "</div>"
      ],
      "text/plain": [
       "                      Date  X (mg)  Y (mg)  Z (mg)  X (dps)  Y (dps)  Z (dps)  \\\n",
       "0  25/07/2020 18:09:39.435  -882.0   331.0  -336.0      0.7     -2.8      1.7   \n",
       "1  25/07/2020 18:09:39.465  -915.0   318.0  -323.0     -0.2      0.4      2.3   \n",
       "2  25/07/2020 18:09:39.527  -875.0   318.0  -362.0     -1.2      0.6      2.1   \n",
       "3  25/07/2020 18:09:39.587  -900.0   317.0  -353.0      1.1     -1.3      3.2   \n",
       "4  25/07/2020 18:09:39.617  -904.0   317.0  -351.0      1.6     -1.2      3.6   \n",
       "\n",
       "   status_make  status_miss_left  status_miss_long  status_miss_right  \n",
       "0            1                 0                 0                  0  \n",
       "1            1                 0                 0                  0  \n",
       "2            1                 0                 0                  0  \n",
       "3            1                 0                 0                  0  \n",
       "4            1                 0                 0                  0  "
      ]
     },
     "execution_count": 234,
     "metadata": {},
     "output_type": "execute_result"
    }
   ],
   "source": [
    "# one-hot encode status\n",
    "\n",
    "df = pd.get_dummies(df, columns=['status'])\n",
    "df.head(5)"
   ]
  },
  {
   "cell_type": "code",
   "execution_count": null,
   "metadata": {},
   "outputs": [],
   "source": []
  },
  {
   "cell_type": "code",
   "execution_count": null,
   "metadata": {},
   "outputs": [],
   "source": []
  }
 ],
 "metadata": {
  "kernelspec": {
   "display_name": "Python 3",
   "language": "python",
   "name": "python3"
  },
  "language_info": {
   "codemirror_mode": {
    "name": "ipython",
    "version": 3
   },
   "file_extension": ".py",
   "mimetype": "text/x-python",
   "name": "python",
   "nbconvert_exporter": "python",
   "pygments_lexer": "ipython3",
   "version": "3.6.10"
  }
 },
 "nbformat": 4,
 "nbformat_minor": 4
}

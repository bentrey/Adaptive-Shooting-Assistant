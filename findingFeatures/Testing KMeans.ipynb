{
 "cells": [
  {
   "cell_type": "markdown",
   "metadata": {},
   "source": [
    "<p>This notebook shows the ability of the K-Means to take data and determine how far away from the hoop the shooter is.</p>"
   ]
  },
  {
   "cell_type": "code",
   "execution_count": 39,
   "metadata": {},
   "outputs": [],
   "source": [
    "import os\n",
    "import numpy as np\n",
    "import matplotlib.pyplot as plt\n",
    "import pandas as pd\n",
    "from scipy.signal import resample\n",
    "from scipy.integrate import simps\n",
    "from scipy.fftpack import fft\n",
    "from sklearn.cluster import KMeans\n",
    "from tqdm import tqdm_notebook as tqdm"
   ]
  },
  {
   "cell_type": "code",
   "execution_count": 29,
   "metadata": {},
   "outputs": [],
   "source": [
    "dir = \"C:/Users/我的电脑/desktop/Harvard/WearableDevicesAndComputerVision/project/data3/\""
   ]
  },
  {
   "cell_type": "code",
   "execution_count": 30,
   "metadata": {},
   "outputs": [],
   "source": [
    "files = os.listdir(dir+'MultipleLocations_7_31')\n",
    "md = pd.read_csv(dir+'motion_data.csv')"
   ]
  },
  {
   "cell_type": "code",
   "execution_count": 31,
   "metadata": {},
   "outputs": [],
   "source": [
    "def trim_data(w,a):\n",
    "    w2 = w['wx']**2 + w['wy']**2 + w['wz']**2\n",
    "    a2 = a['ax']**2 + a['ay']**2 + a['az']**2\n",
    "    center_index = w2.idxmax()\n",
    "    empty_frame = (pd.DataFrame([],columns=w.columns),pd.DataFrame([],columns=a.columns))\n",
    "    if w2.max()>2250000 and center_index-5>=0 and center_index+5<len(w2):\n",
    "        start_index = center_index\n",
    "        stop_index = center_index\n",
    "        while (sum(list(w2[start_index:start_index+5]))/5 >50 or (w['time'][center_index]-w['time'][start_index])<200)\\\n",
    "        and start_index>1:\n",
    "            start_index -= 1\n",
    "        while sum(list(w2[stop_index-5:stop_index]))/5 >50 and stop_index<len(w2)-1:\n",
    "            stop_index += 1\n",
    "        start_time = w['time'][start_index]\n",
    "        stop_time = w['time'][stop_index]\n",
    "        w = w[w['time']>=start_time]\n",
    "        w = w[w['time']<=stop_time]\n",
    "        a = a[a['time']>=start_time]\n",
    "        a = a[a['time']<=stop_time]\n",
    "        w = w.reset_index()\n",
    "        a = a.reset_index()\n",
    "        return (w,a)\n",
    "    else:\n",
    "        return empty_frame\n",
    "\n",
    "def get_v(w, a):\n",
    "    g = np.sqrt(a['ax'][0]**2+a['ay'][0]**2+a['az'][0]**2)\n",
    "    v = np.array([0, 0, 0])\n",
    "    phi = np.arctan(a['ay'][0]/a['ax'][0])\n",
    "    theta = np.arctan(np.sqrt(a['ax'][0]**2+a['ay'][0]**2)/a['az'][0])\n",
    "    x = [1, 0, 0]\n",
    "    y = [0, 1, 0]\n",
    "    z = [0, 0, 1]\n",
    "    Ry = [[np.cos(theta),0,-np.sin(theta)], [0,1,0], [np.sin(theta),1,np.cos(theta)]]\n",
    "    Rz = [[np.cos(phi),-np.sin(phi),0], [np.sin(phi),np.cos(phi),0], [0,0,1]]\n",
    "    xp = np.matmul(Rz,np.matmul(Ry,x))\n",
    "    yp = np.matmul(Rz,np.matmul(Ry,y))\n",
    "    zp = np.matmul(Rz,np.matmul(Ry,z))\n",
    "    \n",
    "    for n in range(len(w)-1):\n",
    "        dt = (w['time'][n+1]-w['time'][n])/1000\n",
    "        phi = np.arctan(a['ay'][0]/a['ax'][0])\n",
    "        theta = np.arctan(np.sqrt(a['ax'][0]**2+a['ay'][0]**2)/a['az'][0])\n",
    "        G = np.matmul(Rz,np.matmul(Ry,z))*g/1000*9.8\n",
    "        v = v + (a['ax'][n]*xp+a['ay'][n]*yp+a['az'][n]*zp+G)*9.8/1000*dt\n",
    "        wv = np.array([w['wx'][n], w['wy'][n], w['wz'][n]])*np.pi/180\n",
    "        xn = xp + dt*np.cross(wv,xp)\n",
    "        yn = yp + dt*np.cross(wv,yp)\n",
    "        zn = zp + dt*np.cross(wv,zp)\n",
    "        xp = xn/np.sqrt(np.dot(xn,xn))\n",
    "        yp = yn/np.sqrt(np.dot(yn,yn))\n",
    "        zp = zn/np.sqrt(np.dot(zn,zn))\n",
    "    return v"
   ]
  },
  {
   "cell_type": "code",
   "execution_count": 74,
   "metadata": {
    "scrolled": false
   },
   "outputs": [
    {
     "data": {
      "application/vnd.jupyter.widget-view+json": {
       "model_id": "e67c0c9d61d6435baa95ea6d8d46a7cf",
       "version_major": 2,
       "version_minor": 0
      },
      "text/plain": [
       "HBox(children=(IntProgress(value=0, max=182), HTML(value='')))"
      ]
     },
     "metadata": {},
     "output_type": "display_data"
    },
    {
     "name": "stderr",
     "output_type": "stream",
     "text": [
      "C:\\ProgramData\\Anaconda3\\lib\\site-packages\\ipykernel_launcher.py:29: RuntimeWarning: divide by zero encountered in longlong_scalars\n",
      "C:\\ProgramData\\Anaconda3\\lib\\site-packages\\ipykernel_launcher.py:42: RuntimeWarning: divide by zero encountered in longlong_scalars\n"
     ]
    },
    {
     "name": "stdout",
     "output_type": "stream",
     "text": [
      "\n"
     ]
    },
    {
     "data": {
      "text/html": [
       "<div>\n",
       "<style scoped>\n",
       "    .dataframe tbody tr th:only-of-type {\n",
       "        vertical-align: middle;\n",
       "    }\n",
       "\n",
       "    .dataframe tbody tr th {\n",
       "        vertical-align: top;\n",
       "    }\n",
       "\n",
       "    .dataframe thead th {\n",
       "        text-align: right;\n",
       "    }\n",
       "</style>\n",
       "<table border=\"1\" class=\"dataframe\">\n",
       "  <thead>\n",
       "    <tr style=\"text-align: right;\">\n",
       "      <th></th>\n",
       "      <th>speed</th>\n",
       "      <th>vz</th>\n",
       "      <th>file_name</th>\n",
       "    </tr>\n",
       "  </thead>\n",
       "  <tbody>\n",
       "    <tr>\n",
       "      <td>0</td>\n",
       "      <td>2.180544</td>\n",
       "      <td>-0.908110</td>\n",
       "      <td>1596167636w.csv</td>\n",
       "    </tr>\n",
       "    <tr>\n",
       "      <td>1</td>\n",
       "      <td>2.696458</td>\n",
       "      <td>0.449686</td>\n",
       "      <td>1596167781w.csv</td>\n",
       "    </tr>\n",
       "    <tr>\n",
       "      <td>2</td>\n",
       "      <td>4.756637</td>\n",
       "      <td>4.350894</td>\n",
       "      <td>1596167850w.csv</td>\n",
       "    </tr>\n",
       "    <tr>\n",
       "      <td>3</td>\n",
       "      <td>2.111035</td>\n",
       "      <td>-0.153030</td>\n",
       "      <td>1596167913w.csv</td>\n",
       "    </tr>\n",
       "    <tr>\n",
       "      <td>4</td>\n",
       "      <td>3.756846</td>\n",
       "      <td>2.737777</td>\n",
       "      <td>1596167936w.csv</td>\n",
       "    </tr>\n",
       "  </tbody>\n",
       "</table>\n",
       "</div>"
      ],
      "text/plain": [
       "      speed        vz        file_name\n",
       "0  2.180544 -0.908110  1596167636w.csv\n",
       "1  2.696458  0.449686  1596167781w.csv\n",
       "2  4.756637  4.350894  1596167850w.csv\n",
       "3  2.111035 -0.153030  1596167913w.csv\n",
       "4  3.756846  2.737777  1596167936w.csv"
      ]
     },
     "execution_count": 74,
     "metadata": {},
     "output_type": "execute_result"
    }
   ],
   "source": [
    "md = pd.read_csv(dir+'motion_data.csv')\n",
    "md_made = md[md['make']==1]\n",
    "made_files = md_made['file_name'].to_string()\n",
    "\n",
    "md_left = md[md['left']==1]\n",
    "left_files = md_left['file_name'].to_string()\n",
    "\n",
    "md_right = md[md['right']==1]\n",
    "right_files = md_right['file_name'].to_string()\n",
    "\n",
    "md_short = md[md['short']==1]\n",
    "short_files = md_short['file_name'].to_string()\n",
    "\n",
    "md_long = md[md['long']==1]\n",
    "long_files = md_long['file_name'].to_string()\n",
    "\n",
    "\n",
    "#df = pd.DataFrame([], columns=['ay_int', 'ay_mean', 'w_int', 'wxf', 'vx', 'vy', 'make', 'left',\\\n",
    "#                              'right', 'short', 'long', 'file_name'])\n",
    "df = pd.DataFrame([], columns=['speed', 'vz', 'file_name'])\n",
    "\n",
    "for file in tqdm(files):\n",
    "    if 'w' in file:\n",
    "        a = pd.read_csv(dir+'MultipleLocations_7_31/'+file.split('w.')[0]+'a.csv')\n",
    "        w = pd.read_csv(dir+'MultipleLocations_7_31/'+file)\n",
    "        w, a = trim_data(w, a)\n",
    "        if len(w)>10:\n",
    "            ay_int = simps(a['ay'],a['time'])\n",
    "            ay_mean = a['ay'].mean()\n",
    "            w_int = simps(np.sqrt(w['wx']**2+w['wy']**2+w['wz']**2),w['time'])\n",
    "            v = get_v(w,a)\n",
    "            vx = v[0]\n",
    "            vy = v[1]\n",
    "            vz = v[2]\n",
    "            N = len(w['time'])\n",
    "            T = (w['time'][N-1]-w['time'][0])/N/1000\n",
    "            t = np.linspace(0.0, N*T, N)\n",
    "            f = np.linspace(0.0, 1.0/2/T, N//2)\n",
    "            uniform_wx= resample(w['wx'], N, w['time'])\n",
    "            fft_wx = fft(uniform_wx[0])\n",
    "            wxfs = 2/N*np.abs(fft_wx[0:N//2])\n",
    "            wxf = f[np.where(wxfs==wxfs.max())[0][0]] \n",
    "            if file.split('w')[0] in made_files:\n",
    "                results = [1, 0, 0, 0, 0]\n",
    "            elif file.split('w')[0] in left_files:\n",
    "                results = [0, 1, 0, 0, 0]\n",
    "            elif file.split('w')[0] in right_files:\n",
    "                results = [0, 0, 1, 0, 0]\n",
    "            elif file.split('w')[0] in short_files:\n",
    "                results = [0, 0, 0, 1, 0]\n",
    "            elif file.split('w')[0] in long_files:\n",
    "                results = [0, 0, 0, 0, 1]\n",
    "                make = 0\n",
    "#            df.loc[len(df)] = [ay_int, ay_mean, w_int, wxf, vx, vy]+results+[file.split('w')[0]]\n",
    "#\n",
    "            df.loc[len(df)] = [np.sqrt(vx**2+vy**2+vz**2), vz, file]\n",
    "df.head()"
   ]
  },
  {
   "cell_type": "code",
   "execution_count": 56,
   "metadata": {},
   "outputs": [],
   "source": [
    "kmeans = KMeans(n_clusters=10)\n",
    "data = df.drop(['file_name'], axis=1)\n",
    "kmeans.fit(data)\n",
    "y_kmeans = kmeans.predict(data)"
   ]
  },
  {
   "cell_type": "code",
   "execution_count": 71,
   "metadata": {},
   "outputs": [],
   "source": [
    "y_kmeans\n",
    "locations = []\n",
    "for n in range(10):\n",
    "    locations.append(np.array(np.where(y_kmeans==n)).mean())\n",
    "locations.sort()"
   ]
  },
  {
   "cell_type": "code",
   "execution_count": 73,
   "metadata": {},
   "outputs": [
    {
     "data": {
      "image/png": "[encoded data removed]",
      "text/plain": [
       "<Figure size 432x288 with 1 Axes>"
      ]
     },
     "metadata": {
      "needs_background": "light"
     },
     "output_type": "display_data"
    }
   ],
   "source": [
    "plt.scatter([1, 2, 3, 4, 5, 6, 7, 8, 9, 10], locations)\n",
    "plt.title('Group Number vs. Average Index')\n",
    "plt.ylabel('Average Index')\n",
    "plt.xlabel('Group Number')\n",
    "plt.show()"
   ]
  }
 ],
 "metadata": {
  "kernelspec": {
   "display_name": "Python 3",
   "language": "python",
   "name": "python3"
  },
  "language_info": {
   "codemirror_mode": {
    "name": "ipython",
    "version": 3
   },
   "file_extension": ".py",
   "mimetype": "text/x-python",
   "name": "python",
   "nbconvert_exporter": "python",
   "pygments_lexer": "ipython3",
   "version": "3.7.4"
  }
 },
 "nbformat": 4,
 "nbformat_minor": 2
}
